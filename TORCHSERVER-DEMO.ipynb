{
  "nbformat": 4,
  "nbformat_minor": 0,
  "metadata": {
    "colab": {
      "name": "TORCHSERVER-DEMO.ipynb",
      "provenance": [],
      "collapsed_sections": []
    },
    "kernelspec": {
      "name": "python3",
      "display_name": "Python 3"
    },
    "language_info": {
      "name": "python"
    },
    "accelerator": "GPU"
  },
  "cells": [
    {
      "cell_type": "markdown",
      "source": [
        "# IMPORT OF LIBRARIES"
      ],
      "metadata": {
        "id": "agywGkdgb1rf"
      }
    },
    {
      "cell_type": "code",
      "execution_count": null,
      "metadata": {
        "id": "cjuAITn4W4nd"
      },
      "outputs": [],
      "source": [
        "!pip install torchserve torch-model-archiver torch-workflow-archiver"
      ]
    },
    {
      "cell_type": "code",
      "source": [
        "!apt-get install -y libgl1-mesa-glx"
      ],
      "metadata": {
        "id": "OnAGNbaTXRzO"
      },
      "execution_count": null,
      "outputs": []
    },
    {
      "cell_type": "code",
      "source": [
        "!apt-get install -y libglib2.0-0"
      ],
      "metadata": {
        "id": "Wpjb2ZznXUNi"
      },
      "execution_count": null,
      "outputs": []
    },
    {
      "cell_type": "code",
      "source": [
        "!apt-get install -y python3-distutils"
      ],
      "metadata": {
        "id": "8GnioDOxXWPn"
      },
      "execution_count": null,
      "outputs": []
    },
    {
      "cell_type": "code",
      "source": [
        "!pip install torch-model-archiver"
      ],
      "metadata": {
        "id": "s6bhfohwmEFg"
      },
      "execution_count": null,
      "outputs": []
    },
    {
      "cell_type": "code",
      "source": [
        "!pip install torchvision "
      ],
      "metadata": {
        "id": "V_TYYAAsl8s3"
      },
      "execution_count": null,
      "outputs": []
    },
    {
      "cell_type": "code",
      "source": [
        "!pip install opencv-python"
      ],
      "metadata": {
        "id": "jAJlIml6l9Az"
      },
      "execution_count": null,
      "outputs": []
    },
    {
      "cell_type": "code",
      "source": [
        "!pip install onnx"
      ],
      "metadata": {
        "id": "hxeqMDY3mAhG"
      },
      "execution_count": null,
      "outputs": []
    },
    {
      "cell_type": "code",
      "source": [
        "!pip install coremltools"
      ],
      "metadata": {
        "id": "SgvJiU8QmZUe"
      },
      "execution_count": null,
      "outputs": []
    },
    {
      "cell_type": "code",
      "source": [
        "!git clone https://github.com/IvanGarcia7/TORCHSERVER.git"
      ],
      "metadata": {
        "id": "yPjz-6W3lBJ2"
      },
      "execution_count": null,
      "outputs": []
    },
    {
      "cell_type": "code",
      "source": [
        "cd /content/TORCHSERVER"
      ],
      "metadata": {
        "id": "a3zUuAEWXlij"
      },
      "execution_count": null,
      "outputs": []
    },
    {
      "cell_type": "markdown",
      "source": [
        "# CREATION OF A FOLDER TO STORE ALL THE FILES ON THE SERVER"
      ],
      "metadata": {
        "id": "mvbv07dyb9k9"
      }
    },
    {
      "cell_type": "code",
      "source": [
        "!mkdir '/content/model-server'"
      ],
      "metadata": {
        "id": "DQpl_NfpXp-M"
      },
      "execution_count": null,
      "outputs": []
    },
    {
      "cell_type": "code",
      "source": [
        "!cp -r ./ressources/ '/content/model-server/ressources/'"
      ],
      "metadata": {
        "id": "3dj4gl7fXoCX"
      },
      "execution_count": null,
      "outputs": []
    },
    {
      "cell_type": "code",
      "source": [
        "!chmod -R a+rw '/content/model-server/'"
      ],
      "metadata": {
        "id": "KqCPXTh0X7ru"
      },
      "execution_count": null,
      "outputs": []
    },
    {
      "cell_type": "code",
      "source": [
        "cd '/content'"
      ],
      "metadata": {
        "id": "qA18UH5IbFI0"
      },
      "execution_count": null,
      "outputs": []
    },
    {
      "cell_type": "code",
      "source": [
        "!git clone https://github.com/ultralytics/yolov5"
      ],
      "metadata": {
        "id": "fwwRf2NYbHbg"
      },
      "execution_count": null,
      "outputs": []
    },
    {
      "cell_type": "code",
      "source": [
        "cd yolov5"
      ],
      "metadata": {
        "id": "B4qV6lbubMZy"
      },
      "execution_count": null,
      "outputs": []
    },
    {
      "cell_type": "code",
      "source": [
        "!pip install -r requirements.txt"
      ],
      "metadata": {
        "id": "sda6eV-vbNuy"
      },
      "execution_count": null,
      "outputs": []
    },
    {
      "cell_type": "markdown",
      "source": [
        "# DOWNLOAD THE YOLO MODEL"
      ],
      "metadata": {
        "id": "CqXrRDJucIBO"
      }
    },
    {
      "cell_type": "code",
      "source": [
        "!/content/model-server/ressources/download_weights.sh"
      ],
      "metadata": {
        "id": "3H5akHgqY8cr"
      },
      "execution_count": null,
      "outputs": []
    },
    {
      "cell_type": "code",
      "source": [
        "!cp /content/yolov5/yolov5m.pt /content/model-server/ressources"
      ],
      "metadata": {
        "id": "ENHuLa0cbg4i"
      },
      "execution_count": null,
      "outputs": []
    },
    {
      "cell_type": "code",
      "source": [
        "import torch\n",
        "import torchvision"
      ],
      "metadata": {
        "id": "i3Odf1LQeHjk"
      },
      "execution_count": null,
      "outputs": []
    },
    {
      "cell_type": "code",
      "source": [
        "# setting device on GPU if available, else CPU\n",
        "device = torch.device('cuda' if torch.cuda.is_available() else 'cpu')\n",
        "print('Using device:', device)\n",
        "print()\n",
        "\n",
        "#Additional Info when using cuda\n",
        "if device.type == 'cuda':\n",
        "    print(torch.cuda.get_device_name(0))\n",
        "    print('Memory Usage:')\n",
        "    print('Allocated:', round(torch.cuda.memory_allocated(0)/1024**3,1), 'GB')\n",
        "    print('Cached:   ', round(torch.cuda.memory_reserved(0)/1024**3,1), 'GB')"
      ],
      "metadata": {
        "id": "BAH6pWr1fHBr"
      },
      "execution_count": null,
      "outputs": []
    },
    {
      "cell_type": "code",
      "source": [
        "!python /content/yolov5/export.py --weights /content/yolov5/yolov5l.pt --img 640 --batch 1"
      ],
      "metadata": {
        "id": "KGQJON1lYiNZ"
      },
      "execution_count": null,
      "outputs": []
    },
    {
      "cell_type": "code",
      "source": [
        "!torch-model-archiver --model-name my_model_name \\\n",
        "--version 0.1 --serialized-file /content/yolov5/yolov5l.torchscript \\\n",
        "--handler /content/model-server/ressources/torchserve_handler.py \\\n",
        "--extra-files /content/model-server/ressources/index_to_name.json,/content/model-server/ressources/torchserve_handler.py"
      ],
      "metadata": {
        "id": "G__C2TZvhbQy"
      },
      "execution_count": null,
      "outputs": []
    },
    {
      "cell_type": "code",
      "source": [
        "!mkdir /content/model-store/"
      ],
      "metadata": {
        "id": "qeeM2wR8Xbn0"
      },
      "execution_count": null,
      "outputs": []
    },
    {
      "cell_type": "code",
      "source": [
        "!mv my_model_name.mar /content/model-store"
      ],
      "metadata": {
        "id": "p4OT7qfLhyqa"
      },
      "execution_count": null,
      "outputs": []
    },
    {
      "cell_type": "code",
      "source": [
        "cd /content/model-store"
      ],
      "metadata": {
        "id": "uDX_gMIGZjbG"
      },
      "execution_count": null,
      "outputs": []
    },
    {
      "cell_type": "code",
      "source": [
        "!echo \"inference_address=http://0.0.0.0:9080\" >> config.properties"
      ],
      "metadata": {
        "id": "2f6K0UVOZQUh"
      },
      "execution_count": null,
      "outputs": []
    },
    {
      "cell_type": "code",
      "source": [
        "!echo \"management_address=http://0.0.0.0:9081\" >> config.properties"
      ],
      "metadata": {
        "id": "aEswgcS7aiQF"
      },
      "execution_count": null,
      "outputs": []
    },
    {
      "cell_type": "code",
      "source": [
        "!echo \"metrics_address=http://0.0.0.0:9082\" >> config.properties"
      ],
      "metadata": {
        "id": "hhJnGsR1alW-"
      },
      "execution_count": null,
      "outputs": []
    },
    {
      "cell_type": "markdown",
      "source": [
        "# START THE SERVER"
      ],
      "metadata": {
        "id": "kM6aZvW8icKX"
      }
    },
    {
      "cell_type": "code",
      "source": [
        "import os\n",
        "os.system('torchserve --start \\\n",
        "           --ncs \\\n",
        "           --ts-config /content/model-store/config.properties \\\n",
        "           --model-store /content/model-store \\\n",
        "           --models my_model_name.mar')"
      ],
      "metadata": {
        "id": "QyAp8PsXiY2j"
      },
      "execution_count": null,
      "outputs": []
    },
    {
      "cell_type": "markdown",
      "source": [
        "# TEST"
      ],
      "metadata": {
        "id": "BX8E5wqYirRP"
      }
    },
    {
      "cell_type": "code",
      "source": [
        "!curl http://localhost:9080/ping"
      ],
      "metadata": {
        "id": "ph_OkcmEdgQ3"
      },
      "execution_count": null,
      "outputs": []
    },
    {
      "cell_type": "code",
      "source": [
        "cd /content/model-server"
      ],
      "metadata": {
        "id": "epUmk0wgFIXG"
      },
      "execution_count": null,
      "outputs": []
    },
    {
      "cell_type": "code",
      "source": [
        "!wget https://ichef.bbci.co.uk/news/768/cpsprodpb/7A5C/production/_113942313_mediaitem113942310.jpg"
      ],
      "metadata": {
        "id": "3CikjTMappsf"
      },
      "execution_count": null,
      "outputs": []
    },
    {
      "cell_type": "code",
      "source": [
        "!curl -X POST http://localhost:9080/predictions/my_model_name -T /content/model-server/_113942313_mediaitem113942310.jpg"
      ],
      "metadata": {
        "id": "84FyPCLKpuM1"
      },
      "execution_count": null,
      "outputs": []
    },
    {
      "cell_type": "markdown",
      "source": [
        "# STOP THE SERVER"
      ],
      "metadata": {
        "id": "y8RyyItEoHaK"
      }
    },
    {
      "cell_type": "code",
      "source": [
        "os.system('torchserve --stop')"
      ],
      "metadata": {
        "id": "QP63B_fEoFLx"
      },
      "execution_count": null,
      "outputs": []
    }
  ]
}